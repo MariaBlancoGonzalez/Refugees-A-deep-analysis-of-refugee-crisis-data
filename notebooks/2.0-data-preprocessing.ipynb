{
 "cells": [
  {
   "cell_type": "markdown",
   "metadata": {},
   "source": [
    "# Preproceso para datos fuera de España"
   ]
  },
  {
   "cell_type": "markdown",
   "metadata": {},
   "source": [
    "## Peticiones de asilo"
   ]
  },
  {
   "cell_type": "code",
   "execution_count": 6,
   "metadata": {},
   "outputs": [],
   "source": [
    "import pandas as pd"
   ]
  },
  {
   "cell_type": "code",
   "execution_count": 7,
   "metadata": {},
   "outputs": [
    {
     "data": {
      "text/html": [
       "<div>\n",
       "<style scoped>\n",
       "    .dataframe tbody tr th:only-of-type {\n",
       "        vertical-align: middle;\n",
       "    }\n",
       "\n",
       "    .dataframe tbody tr th {\n",
       "        vertical-align: top;\n",
       "    }\n",
       "\n",
       "    .dataframe thead th {\n",
       "        text-align: right;\n",
       "    }\n",
       "</style>\n",
       "<table border=\"1\" class=\"dataframe\">\n",
       "  <thead>\n",
       "    <tr style=\"text-align: right;\">\n",
       "      <th></th>\n",
       "      <th>year</th>\n",
       "      <th>coo_name</th>\n",
       "      <th>coo</th>\n",
       "      <th>coo_iso</th>\n",
       "      <th>coa_name</th>\n",
       "      <th>coa</th>\n",
       "      <th>coa_iso</th>\n",
       "      <th>refugees</th>\n",
       "      <th>asylum_seekers</th>\n",
       "      <th>returned_refugees</th>\n",
       "      <th>idps</th>\n",
       "      <th>returned_idps</th>\n",
       "      <th>stateless</th>\n",
       "      <th>ooc</th>\n",
       "      <th>oip</th>\n",
       "      <th>hst</th>\n",
       "    </tr>\n",
       "  </thead>\n",
       "  <tbody>\n",
       "    <tr>\n",
       "      <th>0</th>\n",
       "      <td>2010</td>\n",
       "      <td>Afghanistan</td>\n",
       "      <td>AFG</td>\n",
       "      <td>AFG</td>\n",
       "      <td>Afghanistan</td>\n",
       "      <td>AFG</td>\n",
       "      <td>AFG</td>\n",
       "      <td>0</td>\n",
       "      <td>0</td>\n",
       "      <td>0</td>\n",
       "      <td>351907</td>\n",
       "      <td>3366</td>\n",
       "      <td>0</td>\n",
       "      <td>838250</td>\n",
       "      <td>NaN</td>\n",
       "      <td>NaN</td>\n",
       "    </tr>\n",
       "    <tr>\n",
       "      <th>1</th>\n",
       "      <td>2010</td>\n",
       "      <td>Iran (Islamic Rep. of)</td>\n",
       "      <td>IRN</td>\n",
       "      <td>IRN</td>\n",
       "      <td>Afghanistan</td>\n",
       "      <td>AFG</td>\n",
       "      <td>AFG</td>\n",
       "      <td>30</td>\n",
       "      <td>21</td>\n",
       "      <td>0</td>\n",
       "      <td>0</td>\n",
       "      <td>0</td>\n",
       "      <td>0</td>\n",
       "      <td>0</td>\n",
       "      <td>NaN</td>\n",
       "      <td>NaN</td>\n",
       "    </tr>\n",
       "    <tr>\n",
       "      <th>2</th>\n",
       "      <td>2010</td>\n",
       "      <td>Iraq</td>\n",
       "      <td>IRQ</td>\n",
       "      <td>IRQ</td>\n",
       "      <td>Afghanistan</td>\n",
       "      <td>AFG</td>\n",
       "      <td>AFG</td>\n",
       "      <td>6</td>\n",
       "      <td>0</td>\n",
       "      <td>0</td>\n",
       "      <td>0</td>\n",
       "      <td>0</td>\n",
       "      <td>0</td>\n",
       "      <td>0</td>\n",
       "      <td>NaN</td>\n",
       "      <td>NaN</td>\n",
       "    </tr>\n",
       "    <tr>\n",
       "      <th>3</th>\n",
       "      <td>2010</td>\n",
       "      <td>Pakistan</td>\n",
       "      <td>PAK</td>\n",
       "      <td>PAK</td>\n",
       "      <td>Afghanistan</td>\n",
       "      <td>AFG</td>\n",
       "      <td>AFG</td>\n",
       "      <td>6398</td>\n",
       "      <td>9</td>\n",
       "      <td>0</td>\n",
       "      <td>0</td>\n",
       "      <td>0</td>\n",
       "      <td>0</td>\n",
       "      <td>0</td>\n",
       "      <td>NaN</td>\n",
       "      <td>NaN</td>\n",
       "    </tr>\n",
       "    <tr>\n",
       "      <th>4</th>\n",
       "      <td>2010</td>\n",
       "      <td>Egypt</td>\n",
       "      <td>ARE</td>\n",
       "      <td>EGY</td>\n",
       "      <td>Albania</td>\n",
       "      <td>ALB</td>\n",
       "      <td>ALB</td>\n",
       "      <td>5</td>\n",
       "      <td>0</td>\n",
       "      <td>0</td>\n",
       "      <td>0</td>\n",
       "      <td>0</td>\n",
       "      <td>0</td>\n",
       "      <td>0</td>\n",
       "      <td>NaN</td>\n",
       "      <td>NaN</td>\n",
       "    </tr>\n",
       "  </tbody>\n",
       "</table>\n",
       "</div>"
      ],
      "text/plain": [
       "   year                coo_name  coo coo_iso     coa_name  coa coa_iso  \\\n",
       "0  2010             Afghanistan  AFG     AFG  Afghanistan  AFG     AFG   \n",
       "1  2010  Iran (Islamic Rep. of)  IRN     IRN  Afghanistan  AFG     AFG   \n",
       "2  2010                    Iraq  IRQ     IRQ  Afghanistan  AFG     AFG   \n",
       "3  2010                Pakistan  PAK     PAK  Afghanistan  AFG     AFG   \n",
       "4  2010                   Egypt  ARE     EGY      Albania  ALB     ALB   \n",
       "\n",
       "   refugees  asylum_seekers  returned_refugees    idps  returned_idps  \\\n",
       "0         0               0                  0  351907           3366   \n",
       "1        30              21                  0       0              0   \n",
       "2         6               0                  0       0              0   \n",
       "3      6398               9                  0       0              0   \n",
       "4         5               0                  0       0              0   \n",
       "\n",
       "   stateless     ooc  oip  hst  \n",
       "0          0  838250  NaN  NaN  \n",
       "1          0       0  NaN  NaN  \n",
       "2          0       0  NaN  NaN  \n",
       "3          0       0  NaN  NaN  \n",
       "4          0       0  NaN  NaN  "
      ]
     },
     "execution_count": 7,
     "metadata": {},
     "output_type": "execute_result"
    }
   ],
   "source": [
    "population = pd.read_csv(f'../data/raw/population.csv')\n",
    "population.head()"
   ]
  },
  {
   "cell_type": "code",
   "execution_count": 8,
   "metadata": {},
   "outputs": [
    {
     "data": {
      "text/plain": [
       "Index(['year', 'coo_name', 'coo', 'coo_iso', 'coa_name', 'coa', 'coa_iso',\n",
       "       'refugees', 'asylum_seekers', 'returned_refugees', 'idps',\n",
       "       'returned_idps', 'stateless', 'ooc', 'oip', 'hst'],\n",
       "      dtype='object')"
      ]
     },
     "execution_count": 8,
     "metadata": {},
     "output_type": "execute_result"
    }
   ],
   "source": [
    "population.columns"
   ]
  },
  {
   "cell_type": "code",
   "execution_count": 9,
   "metadata": {},
   "outputs": [
    {
     "data": {
      "text/html": [
       "<div>\n",
       "<style scoped>\n",
       "    .dataframe tbody tr th:only-of-type {\n",
       "        vertical-align: middle;\n",
       "    }\n",
       "\n",
       "    .dataframe tbody tr th {\n",
       "        vertical-align: top;\n",
       "    }\n",
       "\n",
       "    .dataframe thead th {\n",
       "        text-align: right;\n",
       "    }\n",
       "</style>\n",
       "<table border=\"1\" class=\"dataframe\">\n",
       "  <thead>\n",
       "    <tr style=\"text-align: right;\">\n",
       "      <th></th>\n",
       "      <th>year</th>\n",
       "      <th>Origen</th>\n",
       "      <th>Destino</th>\n",
       "      <th>Refugiados</th>\n",
       "      <th>Busca_asilo</th>\n",
       "      <th>Rechazados</th>\n",
       "      <th>Desplazamiento_interno</th>\n",
       "      <th>Rechazados_interno</th>\n",
       "    </tr>\n",
       "  </thead>\n",
       "  <tbody>\n",
       "    <tr>\n",
       "      <th>0</th>\n",
       "      <td>2010</td>\n",
       "      <td>Afghanistan</td>\n",
       "      <td>Afghanistan</td>\n",
       "      <td>0</td>\n",
       "      <td>0</td>\n",
       "      <td>0</td>\n",
       "      <td>351907</td>\n",
       "      <td>3366</td>\n",
       "    </tr>\n",
       "    <tr>\n",
       "      <th>1</th>\n",
       "      <td>2010</td>\n",
       "      <td>Iran (Islamic Rep. of)</td>\n",
       "      <td>Afghanistan</td>\n",
       "      <td>30</td>\n",
       "      <td>21</td>\n",
       "      <td>0</td>\n",
       "      <td>0</td>\n",
       "      <td>0</td>\n",
       "    </tr>\n",
       "    <tr>\n",
       "      <th>2</th>\n",
       "      <td>2010</td>\n",
       "      <td>Iraq</td>\n",
       "      <td>Afghanistan</td>\n",
       "      <td>6</td>\n",
       "      <td>0</td>\n",
       "      <td>0</td>\n",
       "      <td>0</td>\n",
       "      <td>0</td>\n",
       "    </tr>\n",
       "    <tr>\n",
       "      <th>3</th>\n",
       "      <td>2010</td>\n",
       "      <td>Pakistan</td>\n",
       "      <td>Afghanistan</td>\n",
       "      <td>6398</td>\n",
       "      <td>9</td>\n",
       "      <td>0</td>\n",
       "      <td>0</td>\n",
       "      <td>0</td>\n",
       "    </tr>\n",
       "    <tr>\n",
       "      <th>4</th>\n",
       "      <td>2010</td>\n",
       "      <td>Egypt</td>\n",
       "      <td>Albania</td>\n",
       "      <td>5</td>\n",
       "      <td>0</td>\n",
       "      <td>0</td>\n",
       "      <td>0</td>\n",
       "      <td>0</td>\n",
       "    </tr>\n",
       "  </tbody>\n",
       "</table>\n",
       "</div>"
      ],
      "text/plain": [
       "   year                  Origen      Destino  Refugiados  Busca_asilo  \\\n",
       "0  2010             Afghanistan  Afghanistan           0            0   \n",
       "1  2010  Iran (Islamic Rep. of)  Afghanistan          30           21   \n",
       "2  2010                    Iraq  Afghanistan           6            0   \n",
       "3  2010                Pakistan  Afghanistan        6398            9   \n",
       "4  2010                   Egypt      Albania           5            0   \n",
       "\n",
       "   Rechazados  Desplazamiento_interno  Rechazados_interno  \n",
       "0           0                  351907                3366  \n",
       "1           0                       0                   0  \n",
       "2           0                       0                   0  \n",
       "3           0                       0                   0  \n",
       "4           0                       0                   0  "
      ]
     },
     "execution_count": 9,
     "metadata": {},
     "output_type": "execute_result"
    }
   ],
   "source": [
    "population = population.drop(columns=['coo', 'coo_iso', 'coa', 'coa_iso', 'ooc', 'oip', 'hst', 'stateless'])\n",
    "population = population.rename(columns={ 'coo_name': 'Origen', 'coa_name':'Destino', 'idps':'Desplazamiento_interno', 'refugees':'Refugiados', 'asylum_seekers':'Busca_asilo', 'returned_refugees': 'Rechazados', 'returned_idps':'Rechazados_interno'})\n",
    "population.head(5)"
   ]
  },
  {
   "cell_type": "code",
   "execution_count": 10,
   "metadata": {},
   "outputs": [
    {
     "data": {
      "text/plain": [
       "year                      0\n",
       "Origen                    0\n",
       "Destino                   0\n",
       "Refugiados                0\n",
       "Busca_asilo               0\n",
       "Rechazados                0\n",
       "Desplazamiento_interno    0\n",
       "Rechazados_interno        0\n",
       "dtype: int64"
      ]
     },
     "execution_count": 10,
     "metadata": {},
     "output_type": "execute_result"
    }
   ],
   "source": [
    "population.isnull().sum()"
   ]
  },
  {
   "cell_type": "markdown",
   "metadata": {},
   "source": [
    "## Desastres"
   ]
  },
  {
   "cell_type": "code",
   "execution_count": 22,
   "metadata": {},
   "outputs": [
    {
     "data": {
      "text/html": [
       "<div>\n",
       "<style scoped>\n",
       "    .dataframe tbody tr th:only-of-type {\n",
       "        vertical-align: middle;\n",
       "    }\n",
       "\n",
       "    .dataframe tbody tr th {\n",
       "        vertical-align: top;\n",
       "    }\n",
       "\n",
       "    .dataframe thead th {\n",
       "        text-align: right;\n",
       "    }\n",
       "</style>\n",
       "<table border=\"1\" class=\"dataframe\">\n",
       "  <thead>\n",
       "    <tr style=\"text-align: right;\">\n",
       "      <th></th>\n",
       "      <th>ISO3</th>\n",
       "      <th>Name</th>\n",
       "      <th>Year</th>\n",
       "      <th>Conflict Stock Displacement</th>\n",
       "      <th>Conflict Stock Displacement (Raw)</th>\n",
       "      <th>Conflict Internal Displacements</th>\n",
       "      <th>Conflict Internal Displacements (Raw)</th>\n",
       "      <th>Disaster Internal Displacements</th>\n",
       "      <th>Disaster Internal Displacements (Raw)</th>\n",
       "      <th>Disaster Stock Displacement</th>\n",
       "      <th>Disaster Stock Displacement (Raw)</th>\n",
       "    </tr>\n",
       "  </thead>\n",
       "  <tbody>\n",
       "    <tr>\n",
       "      <th>0</th>\n",
       "      <td>AB9</td>\n",
       "      <td>Abyei Area</td>\n",
       "      <td>2022</td>\n",
       "      <td>56000.0</td>\n",
       "      <td>55705.0</td>\n",
       "      <td>56000.0</td>\n",
       "      <td>55750.0</td>\n",
       "      <td>29000.0</td>\n",
       "      <td>28803.0</td>\n",
       "      <td>NaN</td>\n",
       "      <td>NaN</td>\n",
       "    </tr>\n",
       "    <tr>\n",
       "      <th>1</th>\n",
       "      <td>AFG</td>\n",
       "      <td>Afghanistan</td>\n",
       "      <td>2022</td>\n",
       "      <td>3444000.0</td>\n",
       "      <td>3443895.0</td>\n",
       "      <td>32000.0</td>\n",
       "      <td>32424.0</td>\n",
       "      <td>220000.0</td>\n",
       "      <td>220387.0</td>\n",
       "      <td>2482000.0</td>\n",
       "      <td>2482264.0</td>\n",
       "    </tr>\n",
       "    <tr>\n",
       "      <th>2</th>\n",
       "      <td>AGO</td>\n",
       "      <td>Angola</td>\n",
       "      <td>2022</td>\n",
       "      <td>NaN</td>\n",
       "      <td>NaN</td>\n",
       "      <td>NaN</td>\n",
       "      <td>NaN</td>\n",
       "      <td>1800.0</td>\n",
       "      <td>1771.0</td>\n",
       "      <td>NaN</td>\n",
       "      <td>NaN</td>\n",
       "    </tr>\n",
       "    <tr>\n",
       "      <th>3</th>\n",
       "      <td>ALB</td>\n",
       "      <td>Albania</td>\n",
       "      <td>2022</td>\n",
       "      <td>NaN</td>\n",
       "      <td>NaN</td>\n",
       "      <td>NaN</td>\n",
       "      <td>NaN</td>\n",
       "      <td>320.0</td>\n",
       "      <td>318.0</td>\n",
       "      <td>NaN</td>\n",
       "      <td>NaN</td>\n",
       "    </tr>\n",
       "    <tr>\n",
       "      <th>4</th>\n",
       "      <td>ARG</td>\n",
       "      <td>Argentina</td>\n",
       "      <td>2022</td>\n",
       "      <td>NaN</td>\n",
       "      <td>NaN</td>\n",
       "      <td>NaN</td>\n",
       "      <td>NaN</td>\n",
       "      <td>730.0</td>\n",
       "      <td>731.0</td>\n",
       "      <td>NaN</td>\n",
       "      <td>NaN</td>\n",
       "    </tr>\n",
       "  </tbody>\n",
       "</table>\n",
       "</div>"
      ],
      "text/plain": [
       "  ISO3         Name  Year  Conflict Stock Displacement  \\\n",
       "0  AB9   Abyei Area  2022                      56000.0   \n",
       "1  AFG  Afghanistan  2022                    3444000.0   \n",
       "2  AGO       Angola  2022                          NaN   \n",
       "3  ALB      Albania  2022                          NaN   \n",
       "4  ARG    Argentina  2022                          NaN   \n",
       "\n",
       "   Conflict Stock Displacement (Raw)  Conflict Internal Displacements  \\\n",
       "0                            55705.0                          56000.0   \n",
       "1                          3443895.0                          32000.0   \n",
       "2                                NaN                              NaN   \n",
       "3                                NaN                              NaN   \n",
       "4                                NaN                              NaN   \n",
       "\n",
       "   Conflict Internal Displacements (Raw)  Disaster Internal Displacements  \\\n",
       "0                                55750.0                          29000.0   \n",
       "1                                32424.0                         220000.0   \n",
       "2                                    NaN                           1800.0   \n",
       "3                                    NaN                            320.0   \n",
       "4                                    NaN                            730.0   \n",
       "\n",
       "   Disaster Internal Displacements (Raw)  Disaster Stock Displacement  \\\n",
       "0                                28803.0                          NaN   \n",
       "1                               220387.0                    2482000.0   \n",
       "2                                 1771.0                          NaN   \n",
       "3                                  318.0                          NaN   \n",
       "4                                  731.0                          NaN   \n",
       "\n",
       "   Disaster Stock Displacement (Raw)  \n",
       "0                                NaN  \n",
       "1                          2482264.0  \n",
       "2                                NaN  \n",
       "3                                NaN  \n",
       "4                                NaN  "
      ]
     },
     "execution_count": 22,
     "metadata": {},
     "output_type": "execute_result"
    }
   ],
   "source": [
    "desastre = pd.read_excel(f'../data/raw/IDMC_Internal_Displacement_Conflict-Violence_Disasters.xlsx', sheet_name=0)\n",
    "desastre.head()"
   ]
  },
  {
   "cell_type": "code",
   "execution_count": 23,
   "metadata": {},
   "outputs": [
    {
     "data": {
      "text/plain": [
       "Index(['ISO3', 'Name', 'Year', 'Conflict Stock Displacement',\n",
       "       'Conflict Stock Displacement (Raw)', 'Conflict Internal Displacements',\n",
       "       'Conflict Internal Displacements (Raw)',\n",
       "       'Disaster Internal Displacements',\n",
       "       'Disaster Internal Displacements (Raw)', 'Disaster Stock Displacement',\n",
       "       'Disaster Stock Displacement (Raw)'],\n",
       "      dtype='object')"
      ]
     },
     "execution_count": 23,
     "metadata": {},
     "output_type": "execute_result"
    }
   ],
   "source": [
    "desastre.columns"
   ]
  },
  {
   "cell_type": "code",
   "execution_count": 24,
   "metadata": {},
   "outputs": [
    {
     "data": {
      "text/html": [
       "<div>\n",
       "<style scoped>\n",
       "    .dataframe tbody tr th:only-of-type {\n",
       "        vertical-align: middle;\n",
       "    }\n",
       "\n",
       "    .dataframe tbody tr th {\n",
       "        vertical-align: top;\n",
       "    }\n",
       "\n",
       "    .dataframe thead th {\n",
       "        text-align: right;\n",
       "    }\n",
       "</style>\n",
       "<table border=\"1\" class=\"dataframe\">\n",
       "  <thead>\n",
       "    <tr style=\"text-align: right;\">\n",
       "      <th></th>\n",
       "      <th>Pais</th>\n",
       "      <th>Year</th>\n",
       "      <th>N_Internos_violencia</th>\n",
       "    </tr>\n",
       "  </thead>\n",
       "  <tbody>\n",
       "    <tr>\n",
       "      <th>0</th>\n",
       "      <td>Abyei Area</td>\n",
       "      <td>2022</td>\n",
       "      <td>56000.0</td>\n",
       "    </tr>\n",
       "    <tr>\n",
       "      <th>1</th>\n",
       "      <td>Afghanistan</td>\n",
       "      <td>2022</td>\n",
       "      <td>32000.0</td>\n",
       "    </tr>\n",
       "    <tr>\n",
       "      <th>2</th>\n",
       "      <td>Angola</td>\n",
       "      <td>2022</td>\n",
       "      <td>NaN</td>\n",
       "    </tr>\n",
       "    <tr>\n",
       "      <th>3</th>\n",
       "      <td>Albania</td>\n",
       "      <td>2022</td>\n",
       "      <td>NaN</td>\n",
       "    </tr>\n",
       "    <tr>\n",
       "      <th>4</th>\n",
       "      <td>Argentina</td>\n",
       "      <td>2022</td>\n",
       "      <td>NaN</td>\n",
       "    </tr>\n",
       "  </tbody>\n",
       "</table>\n",
       "</div>"
      ],
      "text/plain": [
       "          Pais  Year  N_Internos_violencia\n",
       "0   Abyei Area  2022               56000.0\n",
       "1  Afghanistan  2022               32000.0\n",
       "2       Angola  2022                   NaN\n",
       "3      Albania  2022                   NaN\n",
       "4    Argentina  2022                   NaN"
      ]
     },
     "execution_count": 24,
     "metadata": {},
     "output_type": "execute_result"
    }
   ],
   "source": [
    "desastre = desastre.drop(columns=['Disaster Internal Displacements',\n",
    "       'Disaster Internal Displacements (Raw)', 'Disaster Stock Displacement',\n",
    "       'Disaster Stock Displacement (Raw)', 'ISO3', 'Conflict Stock Displacement (Raw)', 'Conflict Stock Displacement', 'Conflict Internal Displacements (Raw)'])\n",
    "desastre = desastre.rename(columns={ 'Name': 'Pais', 'Conflict Internal Displacements':'N_Internos_violencia'})\n",
    "desastre.head(5)"
   ]
  },
  {
   "cell_type": "code",
   "execution_count": 25,
   "metadata": {},
   "outputs": [
    {
     "data": {
      "text/plain": [
       "Pais                       0\n",
       "Year                       0\n",
       "N_Internos_violencia    1255\n",
       "dtype: int64"
      ]
     },
     "execution_count": 25,
     "metadata": {},
     "output_type": "execute_result"
    }
   ],
   "source": [
    "desastre.isnull().sum()"
   ]
  },
  {
   "cell_type": "code",
   "execution_count": 26,
   "metadata": {},
   "outputs": [
    {
     "data": {
      "text/plain": [
       "Pais                    0\n",
       "Year                    0\n",
       "N_Internos_violencia    0\n",
       "dtype: int64"
      ]
     },
     "execution_count": 26,
     "metadata": {},
     "output_type": "execute_result"
    }
   ],
   "source": [
    "desastre = desastre.fillna(0)\n",
    "desastre.isnull().sum()"
   ]
  },
  {
   "cell_type": "code",
   "execution_count": 28,
   "metadata": {},
   "outputs": [],
   "source": [
    "desastre[[\"N_Internos_violencia\"]] = desastre[[\"N_Internos_violencia\"]].astype(int)"
   ]
  },
  {
   "cell_type": "markdown",
   "metadata": {},
   "source": [
    "## Guardar datos"
   ]
  },
  {
   "cell_type": "code",
   "execution_count": 27,
   "metadata": {},
   "outputs": [],
   "source": [
    "population.to_csv(\"../data/process/PeticionesInternacionales.csv\", sep=',')\n",
    "desastre.to_csv(\"../data/process/DeplazConflictos.csv\", sep=',')"
   ]
  }
 ],
 "metadata": {
  "kernelspec": {
   "display_name": "Python 3",
   "language": "python",
   "name": "python3"
  },
  "language_info": {
   "codemirror_mode": {
    "name": "ipython",
    "version": 3
   },
   "file_extension": ".py",
   "mimetype": "text/x-python",
   "name": "python",
   "nbconvert_exporter": "python",
   "pygments_lexer": "ipython3",
   "version": "3.10.11"
  }
 },
 "nbformat": 4,
 "nbformat_minor": 2
}
